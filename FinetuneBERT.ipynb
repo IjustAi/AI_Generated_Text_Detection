{
 "cells": [
  {
   "cell_type": "code",
   "execution_count": 2,
   "metadata": {},
   "outputs": [
    {
     "data": {
      "image/png": "[encoded data removed]",
      "text/plain": [
       "<Figure size 640x480 with 1 Axes>"
      ]
     },
     "metadata": {},
     "output_type": "display_data"
    },
    {
     "data": {
      "text/html": [
       "<div>\n",
       "<style scoped>\n",
       "    .dataframe tbody tr th:only-of-type {\n",
       "        vertical-align: middle;\n",
       "    }\n",
       "\n",
       "    .dataframe tbody tr th {\n",
       "        vertical-align: top;\n",
       "    }\n",
       "\n",
       "    .dataframe thead th {\n",
       "        text-align: right;\n",
       "    }\n",
       "</style>\n",
       "<table border=\"1\" class=\"dataframe\">\n",
       "  <thead>\n",
       "    <tr style=\"text-align: right;\">\n",
       "      <th></th>\n",
       "      <th>text</th>\n",
       "      <th>label</th>\n",
       "    </tr>\n",
       "  </thead>\n",
       "  <tbody>\n",
       "    <tr>\n",
       "      <th>7721</th>\n",
       "      <td>I believe it is a neat idea to have technology...</td>\n",
       "      <td>0</td>\n",
       "    </tr>\n",
       "    <tr>\n",
       "      <th>16951</th>\n",
       "      <td>Dear Senator,\\n\\nI am writing to you today to ...</td>\n",
       "      <td>1</td>\n",
       "    </tr>\n",
       "    <tr>\n",
       "      <th>16250</th>\n",
       "      <td>In recent years, there has been a growing move...</td>\n",
       "      <td>1</td>\n",
       "    </tr>\n",
       "    <tr>\n",
       "      <th>1373</th>\n",
       "      <td>There has been a fuss about the Elector Colleg...</td>\n",
       "      <td>0</td>\n",
       "    </tr>\n",
       "    <tr>\n",
       "      <th>1795</th>\n",
       "      <td>The Importance of Keeping the Electoral Colleg...</td>\n",
       "      <td>1</td>\n",
       "    </tr>\n",
       "  </tbody>\n",
       "</table>\n",
       "</div>"
      ],
      "text/plain": [
       "                                                    text  label\n",
       "7721   I believe it is a neat idea to have technology...      0\n",
       "16951  Dear Senator,\\n\\nI am writing to you today to ...      1\n",
       "16250  In recent years, there has been a growing move...      1\n",
       "1373   There has been a fuss about the Elector Colleg...      0\n",
       "1795   The Importance of Keeping the Electoral Colleg...      1"
      ]
     },
     "execution_count": 2,
     "metadata": {},
     "output_type": "execute_result"
    }
   ],
   "source": [
    "import pandas as pd \n",
    "import numpy as np \n",
    "import re\n",
    "import torch\n",
    "import logging\n",
    "import os\n",
    "import matplotlib.pyplot as plt\n",
    "import seaborn as sns\n",
    "from tqdm import tqdm \n",
    "from sklearn.model_selection import train_test_split\n",
    "from sklearn.metrics import accuracy_score, confusion_matrix\n",
    "from transformers import BertTokenizer, BertForSequenceClassification,AdamW, get_linear_schedule_with_warmup\n",
    "from torch.utils.data import DataLoader,TensorDataset\n",
    "\n",
    "logging.basicConfig(level=logging.ERROR)\n",
    "#balance training dataset\n",
    "df = pd.read_csv('/Users/chenyufeng/desktop/dataset/Additional_training_essays.csv')\n",
    "\n",
    "dataset_0= df[df['label'] == 0]\n",
    "dataset_1= df[df['label'] == 1]\n",
    "dataset_0 = dataset_0.sample(n=3004, random_state=42)\n",
    "\n",
    "df = pd.concat([dataset_0, dataset_1])\n",
    "df = df.sample(frac=1, random_state=42)\n",
    "\n",
    "sns.countplot(data=df, x='label')\n",
    "plt.show()\n",
    "\n",
    "df.head()"
   ]
  },
  {
   "cell_type": "code",
   "execution_count": 3,
   "metadata": {},
   "outputs": [
    {
     "data": {
      "text/html": [
       "<div>\n",
       "<style scoped>\n",
       "    .dataframe tbody tr th:only-of-type {\n",
       "        vertical-align: middle;\n",
       "    }\n",
       "\n",
       "    .dataframe tbody tr th {\n",
       "        vertical-align: top;\n",
       "    }\n",
       "\n",
       "    .dataframe thead th {\n",
       "        text-align: right;\n",
       "    }\n",
       "</style>\n",
       "<table border=\"1\" class=\"dataframe\">\n",
       "  <thead>\n",
       "    <tr style=\"text-align: right;\">\n",
       "      <th></th>\n",
       "      <th>text</th>\n",
       "      <th>label</th>\n",
       "      <th>new_text</th>\n",
       "    </tr>\n",
       "  </thead>\n",
       "  <tbody>\n",
       "    <tr>\n",
       "      <th>7721</th>\n",
       "      <td>I believe it is a neat idea to have technology...</td>\n",
       "      <td>0</td>\n",
       "      <td>i believe it is a neat idea to have technology...</td>\n",
       "    </tr>\n",
       "    <tr>\n",
       "      <th>16951</th>\n",
       "      <td>Dear Senator,\\n\\nI am writing to you today to ...</td>\n",
       "      <td>1</td>\n",
       "      <td>dear senator i am writing to you today to expr...</td>\n",
       "    </tr>\n",
       "    <tr>\n",
       "      <th>16250</th>\n",
       "      <td>In recent years, there has been a growing move...</td>\n",
       "      <td>1</td>\n",
       "      <td>in recent years there has been a growing movem...</td>\n",
       "    </tr>\n",
       "    <tr>\n",
       "      <th>1373</th>\n",
       "      <td>There has been a fuss about the Elector Colleg...</td>\n",
       "      <td>0</td>\n",
       "      <td>there has been a fuss about the elector colleg...</td>\n",
       "    </tr>\n",
       "    <tr>\n",
       "      <th>1795</th>\n",
       "      <td>The Importance of Keeping the Electoral Colleg...</td>\n",
       "      <td>1</td>\n",
       "      <td>the importance of keeping the electoral colleg...</td>\n",
       "    </tr>\n",
       "  </tbody>\n",
       "</table>\n",
       "</div>"
      ],
      "text/plain": [
       "                                                    text  label  \\\n",
       "7721   I believe it is a neat idea to have technology...      0   \n",
       "16951  Dear Senator,\\n\\nI am writing to you today to ...      1   \n",
       "16250  In recent years, there has been a growing move...      1   \n",
       "1373   There has been a fuss about the Elector Colleg...      0   \n",
       "1795   The Importance of Keeping the Electoral Colleg...      1   \n",
       "\n",
       "                                                new_text  \n",
       "7721   i believe it is a neat idea to have technology...  \n",
       "16951  dear senator i am writing to you today to expr...  \n",
       "16250  in recent years there has been a growing movem...  \n",
       "1373   there has been a fuss about the elector colleg...  \n",
       "1795   the importance of keeping the electoral colleg...  "
      ]
     },
     "execution_count": 3,
     "metadata": {},
     "output_type": "execute_result"
    }
   ],
   "source": [
    "# remove punctuation, clean the raw text data\n",
    "\n",
    "def text_processing(text):\n",
    "    text = re.sub(r'[^\\w\\s]', '', text) \n",
    "    words = text.split()\n",
    "    words = [word.lower() for word in words if word.isalpha()]\n",
    "    return ' '.join(words)\n",
    "\n",
    "df['new_text'] = df['text'].apply(text_processing)\n",
    "\n",
    "df.head()\n"
   ]
  },
  {
   "cell_type": "code",
   "execution_count": 4,
   "metadata": {},
   "outputs": [],
   "source": [
    "#create training and testing dataset \n",
    "\n",
    "x_train, x_test, y_train, y_test = train_test_split(df['new_text'], df['label'], test_size=0.2, random_state=42)\n",
    "\n",
    "tokenizer = BertTokenizer.from_pretrained('bert-base-uncased', do_lower_case=True, padding=True, truncation=True, max_length=512)\n",
    "\n",
    "train_tokens=tokenizer(x_train.tolist(), padding=True, truncation=True, return_tensors='pt')\n",
    "test_tokens = tokenizer(x_test.tolist(), padding=True, truncation=True, return_tensors='pt')\n",
    "\n",
    "train_labels = torch.tensor(y_train.values)\n",
    "test_labels = torch.tensor(y_test.values)\n",
    "\n",
    "train_dataset = TensorDataset(train_tokens['input_ids'], train_tokens['attention_mask'], train_labels)\n",
    "test_dataset = TensorDataset(test_tokens['input_ids'], test_tokens['attention_mask'], test_labels)\n",
    "\n",
    "train_loader = DataLoader(train_dataset, batch_size=1, shuffle=True)\n",
    "test_loader = DataLoader(test_dataset, batch_size=1, shuffle=False)\n"
   ]
  },
  {
   "cell_type": "code",
   "execution_count": 6,
   "metadata": {},
   "outputs": [
    {
     "name": "stderr",
     "output_type": "stream",
     "text": [
      "Some weights of the model checkpoint at bert-base-uncased were not used when initializing BertForSequenceClassification: ['cls.predictions.transform.dense.weight', 'cls.predictions.transform.dense.bias', 'cls.predictions.bias', 'cls.seq_relationship.bias', 'cls.predictions.transform.LayerNorm.bias', 'cls.seq_relationship.weight', 'cls.predictions.transform.LayerNorm.weight']\n",
      "- This IS expected if you are initializing BertForSequenceClassification from the checkpoint of a model trained on another task or with another architecture (e.g. initializing a BertForSequenceClassification model from a BertForPreTraining model).\n",
      "- This IS NOT expected if you are initializing BertForSequenceClassification from the checkpoint of a model that you expect to be exactly identical (initializing a BertForSequenceClassification model from a BertForSequenceClassification model).\n",
      "Some weights of BertForSequenceClassification were not initialized from the model checkpoint at bert-base-uncased and are newly initialized: ['classifier.weight', 'classifier.bias']\n",
      "You should probably TRAIN this model on a down-stream task to be able to use it for predictions and inference.\n",
      "/Users/chenyufeng/miniconda3/envs/torch/lib/python3.9/site-packages/transformers/optimization.py:411: FutureWarning: This implementation of AdamW is deprecated and will be removed in a future version. Use the PyTorch implementation torch.optim.AdamW instead, or set `no_deprecation_warning=True` to disable this warning\n",
      "  warnings.warn(\n"
     ]
    },
    {
     "name": "stdout",
     "output_type": "stream",
     "text": [
      "Resuming training from checkpoint: /Users/chenyufeng/desktop/project_2/model_epoch_4.pt\n"
     ]
    },
    {
     "name": "stderr",
     "output_type": "stream",
     "text": [
      "100%|██████████| 4806/4806 [19:01<00:00,  4.21it/s]\n"
     ]
    },
    {
     "name": "stdout",
     "output_type": "stream",
     "text": [
      "Model saved to /Users/chenyufeng/desktop/project_2/model_epoch_5.pt\n",
      "Epoch 5/5, Average Training Loss: 0.0000\n"
     ]
    }
   ],
   "source": [
    "#fine tune bert\n",
    "\n",
    "\n",
    "model = BertForSequenceClassification.from_pretrained('bert-base-uncased', num_labels=2)\n",
    "device = \"mps\" if torch.backends.mps.is_available() else \"cpu\"\n",
    "model.to(device)\n",
    "\n",
    "epochs = 5\n",
    "optimizer = AdamW(model.parameters(), lr=2e-5, correct_bias=False)\n",
    "total_steps = len(train_loader) * epochs\n",
    "scheduler = get_linear_schedule_with_warmup(optimizer, num_warmup_steps=0.1 * total_steps, num_training_steps=total_steps)\n",
    "\n",
    "checkpoint_dir = \"/Users/chenyufeng/desktop/project_2\"\n",
    "\n",
    "def find_latest_checkpoint(checkpoint_dir):\n",
    "    checkpoint_files = [file for file in os.listdir(checkpoint_dir) if file.endswith('.pt')]\n",
    "    if checkpoint_files:\n",
    "        valid_files = [f for f in checkpoint_files if 'model_epoch_' in f]\n",
    "        if not valid_files:\n",
    "            return None\n",
    "\n",
    "        valid_files.sort(key=lambda f: int(f.split('_')[-1].replace('.pt', '')))\n",
    "        latest_checkpoint = valid_files[-1]\n",
    "\n",
    "        return os.path.join(checkpoint_dir, latest_checkpoint)\n",
    "    \n",
    "    return None\n",
    "\n",
    "\n",
    "latest_checkpoint = find_latest_checkpoint(checkpoint_dir)\n",
    "start_epoch = 0\n",
    "if latest_checkpoint:\n",
    "    print(f\"Resuming training from checkpoint: {latest_checkpoint}\")\n",
    "    checkpoint = torch.load(latest_checkpoint, map_location=device)\n",
    "    model.load_state_dict(checkpoint['model_state_dict'])\n",
    "    optimizer.load_state_dict(checkpoint['optimizer_state_dict'])\n",
    "    scheduler.load_state_dict(checkpoint['scheduler_state_dict'])\n",
    "    start_epoch = checkpoint['epoch']\n",
    "\n",
    "model.train()\n",
    "for epoch in range(start_epoch, epochs):\n",
    "    total_loss = 0\n",
    "\n",
    "    for batch in tqdm(train_loader):\n",
    "        input_ids, attention_mask,labels = batch \n",
    "        input_ids, attention_mask, labels = input_ids.to(device), attention_mask.to(device), labels.to(device)\n",
    "\n",
    "        optimizer.zero_grad()\n",
    "\n",
    "        outputs = model(input_ids,attention_mask=attention_mask,labels=labels)\n",
    "\n",
    "        loss = outputs.loss\n",
    "        total_loss+=loss\n",
    "\n",
    "        loss.backward()\n",
    "        torch.nn.utils.clip_grad_norm_(model.parameters(), 1.0) \n",
    "        optimizer.step()\n",
    "        scheduler.step()\n",
    "    \n",
    "    model_save_path = os.path.join(checkpoint_dir, f\"model_epoch_{epoch + 1}.pt\")\n",
    "    torch.save({\n",
    "        'epoch': epoch + 1,\n",
    "        'model_state_dict': model.state_dict(),\n",
    "        'optimizer_state_dict': optimizer.state_dict(),\n",
    "        'scheduler_state_dict': scheduler.state_dict()\n",
    "    }, model_save_path)\n",
    "    print(f\"Model saved to {model_save_path}\")\n",
    "\n",
    "    avg_train_loss = total_loss / len(train_loader)\n",
    "    print(f\"Epoch {epoch + 1}/{epochs}, Average Training Loss: {avg_train_loss:.4f}\")\n"
   ]
  },
  {
   "cell_type": "code",
   "execution_count": 7,
   "metadata": {},
   "outputs": [
    {
     "name": "stderr",
     "output_type": "stream",
     "text": [
      "100%|██████████| 1202/1202 [01:01<00:00, 19.57it/s]\n"
     ]
    },
    {
     "name": "stdout",
     "output_type": "stream",
     "text": [
      "Test Accuracy: 0.9983\n"
     ]
    },
    {
     "data": {
      "image/png": "[encoded data removed]",
      "text/plain": [
       "<Figure size 1000x500 with 2 Axes>"
      ]
     },
     "metadata": {},
     "output_type": "display_data"
    }
   ],
   "source": [
    "#test the fine-tuned bert \n",
    "\n",
    "model.eval()\n",
    "preds=[]\n",
    "vals=[]\n",
    "\n",
    "with torch.no_grad():\n",
    "    for batch in tqdm(test_loader):\n",
    "        input_ids, attention_mask, labels = batch\n",
    "        input_ids, attention_mask, labels = input_ids.to(device), attention_mask.to(device), labels.to(device)\n",
    "\n",
    "        outputs = model(input_ids, attention_mask=attention_mask)\n",
    "        logits = outputs.logits\n",
    "\n",
    "        preds.extend(torch.argmax(logits, dim=1).cpu().numpy())\n",
    "        vals.extend(labels.cpu().numpy())\n",
    "\n",
    "\n",
    "    accuracy = accuracy_score(vals, preds)\n",
    "    print(f\"Test Accuracy: {accuracy:.4f}\")\n",
    "    matrix = confusion_matrix(vals, preds)\n",
    "\n",
    "    plt.figure(figsize=(10, 5))\n",
    "    sns.heatmap(matrix, annot=True, fmt='d', cmap='Blues')\n",
    "    plt.xlabel('Predictions')\n",
    "    plt.ylabel('True Label')\n",
    "    plt.title('Confusion Matrix')\n",
    "    plt.show()\n"
   ]
  }
 ],
 "metadata": {
  "kernelspec": {
   "display_name": "Python 3.9.16 ('torch')",
   "language": "python",
   "name": "python3"
  },
  "language_info": {
   "codemirror_mode": {
    "name": "ipython",
    "version": 3
   },
   "file_extension": ".py",
   "mimetype": "text/x-python",
   "name": "python",
   "nbconvert_exporter": "python",
   "pygments_lexer": "ipython3",
   "version": "3.9.16"
  },
  "orig_nbformat": 4,
  "vscode": {
   "interpreter": {
    "hash": "a2f6feb07eba773dd139ab4e795e56453149de9eb989f6e040caf6480f8c57fa"
   }
  }
 },
 "nbformat": 4,
 "nbformat_minor": 2
}
